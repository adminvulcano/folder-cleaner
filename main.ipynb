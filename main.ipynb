{
 "cells": [
  {
   "cell_type": "markdown",
   "metadata": {},
   "source": [
    "# folder-cleaner\n",
    "Set `input_folder` to the folder you want to clean and `output_folder` to the folder where your files are categorized into folders."
   ]
  },
  {
   "cell_type": "code",
   "execution_count": 2,
   "metadata": {},
   "outputs": [],
   "source": [
    "from pathlib import Path\n",
    "\n",
    "input_folder = Path('~/Downloads').expanduser()\n",
    "assert input_folder.exists()\n",
    "output_folder = Path('./sorted')\n",
    "output_folder.mkdir(exist_ok=True)\n",
    "assert output_folder.exists()"
   ]
  },
  {
   "cell_type": "code",
   "execution_count": 3,
   "metadata": {
    "editable": true,
    "slideshow": {
     "slide_type": ""
    },
    "tags": []
   },
   "outputs": [],
   "source": [
    "import http.server\n",
    "import socketserver\n",
    "import os\n",
    "# Start a simple HTTP server to serve files from output_folder\n",
    "class FileServerHandler(http.server.SimpleHTTPRequestHandler):\n",
    "    def __init__(self, *args, **kwargs):\n",
    "        super().__init__(*args, directory = os.fspath(input_folder), **kwargs)\n",
    "PORT = 8002\n",
    "def run_server():\n",
    "    handler = FileServerHandler\n",
    "    \n",
    "    with socketserver.TCPServer((\"127.0.0.1\", PORT), handler) as httpd:\n",
    "        print(\"Server started at localhost:\" + str(PORT))\n",
    "        httpd.serve_forever()"
   ]
  },
  {
   "cell_type": "code",
   "execution_count": 4,
   "metadata": {
    "editable": true,
    "slideshow": {
     "slide_type": ""
    },
    "tags": []
   },
   "outputs": [
    {
     "name": "stdout",
     "output_type": "stream",
     "text": [
      "Server started at localhost:8002\n"
     ]
    }
   ],
   "source": [
    "from threading import Thread\n",
    "\n",
    "t = Thread(target=run_server)\n",
    "\n",
    "t.start()\n",
    "# Stopping the server should theoretically work with:\n",
    "# t.join(0)\n",
    "# However, the port is not released, so currently I restart the kernel to stop the server"
   ]
  },
  {
   "cell_type": "code",
   "execution_count": 5,
   "metadata": {},
   "outputs": [],
   "source": [
    "from IPython.display import display\n",
    "from ipywidgets import VBox, HTML, Text, Layout, GridBox, Button\n",
    "import shutil\n",
    "import subprocess\n",
    "import gzip, zipfile\n",
    "import html\n",
    "from datetime import datetime\n",
    "from urllib.parse import quote"
   ]
  },
  {
   "cell_type": "code",
   "execution_count": null,
   "metadata": {
    "editable": true,
    "slideshow": {
     "slide_type": ""
    },
    "tags": []
   },
   "outputs": [],
   "source": [
    "files = iter(sorted(input_folder.glob('*'), key = lambda x: -x.lstat().st_mtime))\n",
    "categories = set(output_folder.glob('*'))\n",
    "current_text = HTML()\n",
    "description_text = HTML()\n",
    "next_button = Button(description='Skip')\n",
    "rename_input = Text(placeholder='Rename to', description='Name: ')\n",
    "file_host = f\"http://localhost:{PORT}\"\n",
    "def show_next_file():\n",
    "    try:\n",
    "        file: Path = next(files)\n",
    "    except StopIteration:\n",
    "        current_text.value = \"You're done!\"\n",
    "        return\n",
    "    current_text.value = rename_input.value = file.name\n",
    "    description_text.value = \"Modified: \"+ datetime.fromtimestamp(file.lstat().st_mtime).strftime(\"%d/%m/%Y, %H:%M:%S\") + \"<br>\"\n",
    "    description_text.value += f\"\"\"{'Directory' if file.is_dir() else 'File'}\"\"\"\n",
    "    description_text.value += \"<div style='height: 450px; overflow: scroll;'>\"\n",
    "    if file.is_file():\n",
    "        description_text.value += f\"Size: {file.lstat().st_size}<br>\"\n",
    "        contents = file.read_bytes()\n",
    "        suffix = file.suffix.lower()\n",
    "        host_file_path = quote(file.name)\n",
    "        if suffix == \".pdf\":\n",
    "            description_text.value += f'<iframe src=\"{file_host}/{host_file_path}\" height=\"450px\" width=\"500px\" />'\n",
    "        elif suffix in ('.html', '.htm'):\n",
    "            description_text.value += f'<iframe src=\"{file_host}/{host_file_path}\" sandbox height=\"450px\" width=\"500px\" />'\n",
    "        elif suffix in ('.jpg', '.png', '.jfif', '.jpeg', '.webm', '.webp', '.gif', '.svg'):\n",
    "            description_text.value += f'<img src=\"{file_host}/{host_file_path}\" style=\"max-height: 450px;\" />'\n",
    "        elif suffix in ('.mp4', '.mov', '.mp3'):\n",
    "            description_text.value += f'<video src=\"{file_host}/{host_file_path}\" style=\"max-height: 450px;\" controls />'\n",
    "        elif len(contents) > 0:\n",
    "            if suffix == '.gz':\n",
    "                contents = gzip.decompress(contents)\n",
    "            elif suffix in ('.zip', '.epub'):\n",
    "                contents = '<br>'.join(zipfile.ZipFile(file).namelist())\n",
    "            elif suffix in ('.html', '.htm'):\n",
    "                contents = html.escape(contents.decode())\n",
    "            if type(contents) == str and contents.count('<br>') > 30:\n",
    "                contents = '<br>'.join(contents.split('<br>')[:30])+\"<br><pre>[truncated]</pre>\"\n",
    "            if type(contents) == bytes and contents.isascii():\n",
    "                contents = contents.decode()\n",
    "            description_text.value += f\"\"\"<br>\n",
    "            Head:\n",
    "            <pre>{contents[:10000]}</pre>\n",
    "            \"\"\"\n",
    "    elif file.is_dir():\n",
    "        file_list = \"Files:<ul>\"\n",
    "        for sub_file in list(file.glob(\"*\"))[:50]:\n",
    "            file_list += f\"<li>{sub_file.name[:100]}</li>\"\n",
    "        description_text.value += file_list\n",
    "    description_text.value += '</div>'\n",
    "\n",
    "next_button.on_click(lambda _: show_next_file())\n",
    "show_next_file()\n",
    "def move_file(folder: str):\n",
    "    _from = input_folder.joinpath(current_text.value)\n",
    "    try:\n",
    "        to = output_folder.joinpath(folder, rename_input.value)\n",
    "        _from.rename(to)\n",
    "        show_next_file()\n",
    "        print('moved', _from, to)\n",
    "    \n",
    "    except Exception as e:\n",
    "        subprocess.run(['explorer.exe', '/select', str(_from)])\n",
    "        raise e\n",
    "categories_layout = Layout(grid_template_columns='repeat(2, 1fr)')\n",
    "categories_hbox = GridBox(layout=categories_layout)\n",
    "categories_explanation = HTML(\"\"\"\n",
    "You don't have any categories yet!<br>\n",
    "Add one above to get started.<br>\n",
    "Each category corresponds to a folder in the output folder.\n",
    "\"\"\")\n",
    "def add_category(category: str):\n",
    "    output_folder.joinpath(category).mkdir(exist_ok=True, parents=True)\n",
    "    button = Button(description=category)\n",
    "    categories_hbox.children = list(categories_hbox.children) + [button]\n",
    "    button.on_click(lambda b: move_file(b.description))\n",
    "    categories_explanation.value = \"Move current element to:\"\n",
    "category_input = Text(placeholder='Category')\n",
    "category_button = Button(description='Add category')\n",
    "\n",
    "def delete_file(file: str):\n",
    "    target = input_folder.joinpath(file)\n",
    "    if target.is_dir():\n",
    "        shutil.rmtree(target, False, print)\n",
    "    else:\n",
    "        target.unlink()\n",
    "    show_next_file()\n",
    "    print('deleted', target.name)\n",
    "delete_button = Button(description='Delete')\n",
    "delete_button.on_click(lambda _: delete_file(current_text.value))\n",
    "open_button = Button(description='Open in Explorer')\n",
    "open_button.on_click(lambda _: subprocess.run(['explorer.exe', '/select,', str(input_folder.joinpath(current_text.value))]))\n",
    "category_button.on_click(lambda _: add_category(category_input.value))\n",
    "actions = VBox([open_button, delete_button, rename_input, next_button, category_input, category_button, categories_explanation, categories_hbox])\n",
    "file_infos = VBox([current_text, description_text])\n",
    "main_layout = Layout(grid_template_columns='320px auto')\n",
    "main_grid = GridBox([actions, file_infos],layout=main_layout)\n",
    "for category in categories:\n",
    "    add_category(category.name)\n",
    "\n",
    "display(main_grid)"
   ]
  }
 ],
 "metadata": {
  "kernelspec": {
   "display_name": "Python 3 (ipykernel)",
   "language": "python",
   "name": "python3"
  },
  "language_info": {
   "codemirror_mode": {
    "name": "ipython",
    "version": 3
   },
   "file_extension": ".py",
   "mimetype": "text/x-python",
   "name": "python",
   "nbconvert_exporter": "python",
   "pygments_lexer": "ipython3",
   "version": "3.11.5"
  },
  "vscode": {
   "interpreter": {
    "hash": "9650cb4e16cdd4a8e8e2d128bf38d875813998db22a3c986335f89e0cb4d7bb2"
   }
  }
 },
 "nbformat": 4,
 "nbformat_minor": 4
}
